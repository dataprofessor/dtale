{
  "nbformat": 4,
  "nbformat_minor": 0,
  "metadata": {
    "colab": {
      "name": "dtale.ipynb",
      "provenance": [],
      "collapsed_sections": []
    },
    "kernelspec": {
      "name": "python3",
      "display_name": "Python 3"
    },
    "language_info": {
      "name": "python"
    }
  },
  "cells": [
    {
      "cell_type": "markdown",
      "metadata": {
        "id": "-y9PM1Npmevn"
      },
      "source": [
        "# **How to perform Exploratory Data Analysis in Python with the dtale library**\n",
        "\n",
        "Chanin Nantasenamat\n",
        "\n",
        "[*Data Professor YouTube channel*](http://youtube.com/dataprofessor)\n",
        "\n",
        "[*Coding Professor YouTube channel*](https://www.youtube.com/channel/UCJzlfIoF8nmWqJIv_iWQVRw)\n",
        "\n",
        "---\n",
        "\n",
        "🔴 **Support my work:**\n",
        "[![Buy me a coffee](https://img.shields.io/badge/Buy%20me%20a%20coffee--yellow.svg?logo=buy-me-a-coffee&logoColor=orange&style=social)](https://www.buymeacoffee.com/dataprofessor)\n",
        "\n",
        "🟠 **Learn Data Science for FREE:**\n",
        "[![YouTube](https://img.shields.io/youtube/channel/subscribers/UCV8e2g4IWQqK71bbzGDEI4Q?style=social)](http://youtube.com/dataprofessor)\n",
        "[![Medium](https://img.shields.io/badge/Medium-12100E?style=for-the-badge&logo=medium&logoColor=white&style=social)](https://medium.com/@chanin.nantasenamat)\n",
        "[![GitHub](https://img.shields.io/badge/GitHub-100000?style=for-the-badge&style=social&logo=github&logoColor=white)](https://github.com/dataprofessor/)\n",
        "[![Newsletter](https://img.shields.io/badge/Newsletter-3A8EED?style=for-the-badge&style=social&logoColor=white)](http://newsletter.dataprofessor.org/)\n",
        "[![DataProfessor](https://img.shields.io/badge/Data-Professor-3A8EED?style=for-the-badge&style=social&logoColor=white)](http://dataprofessor.org/)\n",
        "\n",
        "🟢 **Learn Python and R for FREE:**\n",
        "[![Python](https://img.shields.io/badge/Python-3776AB?style=for-the-badge&style=social&logo=python&logoColor=white)](https://www.youtube.com/playlist?list=PL2WsO1N8GK8vMMPQaux9PZaAXBGV7absc)\n",
        "[![R](https://img.shields.io/badge/R-276DC3?style=for-the-badge&style=social&logo=r&logoColor=white)](https://www.youtube.com/playlist?list=PL2WsO1N8GK8v9xaNwbR1tiGH9lO4epcjg)\n",
        "\n",
        "🔵 **Connect with me:**\n",
        "[![Follow](https://img.shields.io/twitter/follow/thedataprof?style=social)](https://www.twitter.com/thedataprof)\n",
        "[![LinkedIn](https://img.shields.io/badge/LinkedIn-0077B5?style=for-the-badge&style=social&logo=linkedin&logoColor=white)](https://www.linkedin.com/company/dataprofessor/)\n",
        "[![Facebook](https://img.shields.io/badge/Facebook-1877F2?style=for-the-badge&style=social&logo=facebook&logoColor=white)](http://facebook.com/dataprofessor/)\n",
        "[![Instagram](https://img.shields.io/badge/Instagram-E4405F?style=for-the-badge&style=social&logo=instagram&logoColor=white)](https://www.instagram.com/data.professor/)\n",
        "\n"
      ]
    },
    {
      "cell_type": "markdown",
      "metadata": {
        "id": "LFXP41KKKRwv"
      },
      "source": [
        "# **Install dtale**"
      ]
    },
    {
      "cell_type": "code",
      "metadata": {
        "id": "K-CYkN9MkNdZ"
      },
      "source": [
        "! pip install -U dtale"
      ],
      "execution_count": null,
      "outputs": []
    },
    {
      "cell_type": "markdown",
      "metadata": {
        "id": "pFC9b5_aKWvI"
      },
      "source": [
        "# **Load data**"
      ]
    },
    {
      "cell_type": "code",
      "metadata": {
        "id": "4ANHhFlklDEc"
      },
      "source": [
        "import pandas as pd\n",
        "\n",
        "# Penguins\n",
        "df = pd.read_csv('https://raw.githubusercontent.com/dataprofessor/data/master/penguins_size.csv')\n",
        "\n",
        "# Solubility data\n",
        "#df = pd.read_csv('https://github.com/dataprofessor/data/raw/master/delaney_solubility_with_descriptors.csv')\n",
        "\n",
        "# Acetylcholinesterase inhibitors data\n",
        "#df = pd.read_csv('https://github.com/dataprofessor/data/raw/master/acetylcholinesterase_06_bioactivity_data_3class_pIC50_pubchem_fp.csv')"
      ],
      "execution_count": null,
      "outputs": []
    },
    {
      "cell_type": "markdown",
      "metadata": {
        "id": "d5efGmkLKZ4i"
      },
      "source": [
        "# **Using dtale**"
      ]
    },
    {
      "cell_type": "code",
      "metadata": {
        "id": "pHcWh003lfZT"
      },
      "source": [
        "import dtale\n",
        "import dtale.app as dtale_app\n",
        "\n",
        "dtale_app.USE_NGROK = True\n",
        "dtale.show(df)"
      ],
      "execution_count": null,
      "outputs": []
    },
    {
      "cell_type": "code",
      "metadata": {
        "id": "Hz2sPK8Ppo_v"
      },
      "source": [
        ""
      ],
      "execution_count": null,
      "outputs": []
    }
  ]
}